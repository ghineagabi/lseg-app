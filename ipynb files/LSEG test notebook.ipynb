{
 "cells": [
  {
   "cell_type": "code",
   "execution_count": 16,
   "id": "f5fbaa38",
   "metadata": {
    "scrolled": true
   },
   "outputs": [],
   "source": [
    "import numpy as np\n",
    "import pandas as pd\n",
    "from scipy import stats"
   ]
  },
  {
   "cell_type": "code",
   "execution_count": 17,
   "id": "2cbebb99",
   "metadata": {},
   "outputs": [],
   "source": [
    "import unittest\n",
    "from pandas import testing as tm"
   ]
  },
  {
   "cell_type": "code",
   "execution_count": 18,
   "id": "e8be100b",
   "metadata": {},
   "outputs": [
    {
     "data": {
      "text/html": [
       "<div>\n",
       "<style scoped>\n",
       "    .dataframe tbody tr th:only-of-type {\n",
       "        vertical-align: middle;\n",
       "    }\n",
       "\n",
       "    .dataframe tbody tr th {\n",
       "        vertical-align: top;\n",
       "    }\n",
       "\n",
       "    .dataframe thead th {\n",
       "        text-align: right;\n",
       "    }\n",
       "</style>\n",
       "<table border=\"1\" class=\"dataframe\">\n",
       "  <thead>\n",
       "    <tr style=\"text-align: right;\">\n",
       "      <th></th>\n",
       "      <th>col 1</th>\n",
       "    </tr>\n",
       "  </thead>\n",
       "  <tbody>\n",
       "    <tr>\n",
       "      <th>0</th>\n",
       "      <td>1</td>\n",
       "    </tr>\n",
       "    <tr>\n",
       "      <th>1</th>\n",
       "      <td>3</td>\n",
       "    </tr>\n",
       "    <tr>\n",
       "      <th>2</th>\n",
       "      <td>5</td>\n",
       "    </tr>\n",
       "  </tbody>\n",
       "</table>\n",
       "</div>"
      ],
      "text/plain": [
       "   col 1\n",
       "0      1\n",
       "1      3\n",
       "2      5"
      ]
     },
     "execution_count": 18,
     "metadata": {},
     "output_type": "execute_result"
    }
   ],
   "source": [
    "csv_data = pd.DataFrame({'col 1': range(1, 7, 2)})\n",
    "csv_data"
   ]
  },
  {
   "cell_type": "code",
   "execution_count": 19,
   "id": "b3cbe8a5",
   "metadata": {},
   "outputs": [],
   "source": [
    "class Standardize:\n",
    "    def __init__(self, df_data):\n",
    "        self.data = df_data\n",
    "    \n",
    "    def _fit(self):\n",
    "        self.data['std'] = stats.zscore(self.data['col 1'])\n",
    "        return self\n",
    "    \n",
    "    def _transform(self, col_name, to_add):\n",
    "        self.data[col_name] = self.data[col_name].transform(lambda x: x + to_add)\n",
    "        return self\n",
    "    \n",
    "    def _inverse_transform(self, col_name, to_subtract):\n",
    "        self.data[col_name] = self.data[col_name].transform(lambda x: x - to_subtract) \n",
    "        return self"
   ]
  },
  {
   "cell_type": "code",
   "execution_count": 20,
   "id": "4e46d277",
   "metadata": {},
   "outputs": [],
   "source": [
    "x = Standardize(csv_data)._fit()"
   ]
  },
  {
   "cell_type": "code",
   "execution_count": 21,
   "id": "616d5e4c",
   "metadata": {},
   "outputs": [
    {
     "data": {
      "text/html": [
       "<div>\n",
       "<style scoped>\n",
       "    .dataframe tbody tr th:only-of-type {\n",
       "        vertical-align: middle;\n",
       "    }\n",
       "\n",
       "    .dataframe tbody tr th {\n",
       "        vertical-align: top;\n",
       "    }\n",
       "\n",
       "    .dataframe thead th {\n",
       "        text-align: right;\n",
       "    }\n",
       "</style>\n",
       "<table border=\"1\" class=\"dataframe\">\n",
       "  <thead>\n",
       "    <tr style=\"text-align: right;\">\n",
       "      <th></th>\n",
       "      <th>col 1</th>\n",
       "      <th>std</th>\n",
       "    </tr>\n",
       "  </thead>\n",
       "  <tbody>\n",
       "    <tr>\n",
       "      <th>0</th>\n",
       "      <td>3</td>\n",
       "      <td>-1.224745</td>\n",
       "    </tr>\n",
       "    <tr>\n",
       "      <th>1</th>\n",
       "      <td>5</td>\n",
       "      <td>0.000000</td>\n",
       "    </tr>\n",
       "    <tr>\n",
       "      <th>2</th>\n",
       "      <td>7</td>\n",
       "      <td>1.224745</td>\n",
       "    </tr>\n",
       "  </tbody>\n",
       "</table>\n",
       "</div>"
      ],
      "text/plain": [
       "   col 1       std\n",
       "0      3 -1.224745\n",
       "1      5  0.000000\n",
       "2      7  1.224745"
      ]
     },
     "execution_count": 21,
     "metadata": {},
     "output_type": "execute_result"
    }
   ],
   "source": [
    "x._transform('col 1', 2)\n",
    "x.data"
   ]
  },
  {
   "cell_type": "code",
   "execution_count": 22,
   "id": "70aa2daf",
   "metadata": {},
   "outputs": [
    {
     "data": {
      "text/html": [
       "<div>\n",
       "<style scoped>\n",
       "    .dataframe tbody tr th:only-of-type {\n",
       "        vertical-align: middle;\n",
       "    }\n",
       "\n",
       "    .dataframe tbody tr th {\n",
       "        vertical-align: top;\n",
       "    }\n",
       "\n",
       "    .dataframe thead th {\n",
       "        text-align: right;\n",
       "    }\n",
       "</style>\n",
       "<table border=\"1\" class=\"dataframe\">\n",
       "  <thead>\n",
       "    <tr style=\"text-align: right;\">\n",
       "      <th></th>\n",
       "      <th>col 1</th>\n",
       "      <th>std</th>\n",
       "    </tr>\n",
       "  </thead>\n",
       "  <tbody>\n",
       "    <tr>\n",
       "      <th>0</th>\n",
       "      <td>-1</td>\n",
       "      <td>-1.224745</td>\n",
       "    </tr>\n",
       "    <tr>\n",
       "      <th>1</th>\n",
       "      <td>1</td>\n",
       "      <td>0.000000</td>\n",
       "    </tr>\n",
       "    <tr>\n",
       "      <th>2</th>\n",
       "      <td>3</td>\n",
       "      <td>1.224745</td>\n",
       "    </tr>\n",
       "  </tbody>\n",
       "</table>\n",
       "</div>"
      ],
      "text/plain": [
       "   col 1       std\n",
       "0     -1 -1.224745\n",
       "1      1  0.000000\n",
       "2      3  1.224745"
      ]
     },
     "execution_count": 22,
     "metadata": {},
     "output_type": "execute_result"
    }
   ],
   "source": [
    "x._inverse_transform('col 1', 4)\n",
    "x.data"
   ]
  },
  {
   "cell_type": "code",
   "execution_count": 23,
   "id": "59bedc28",
   "metadata": {},
   "outputs": [
    {
     "data": {
      "text/plain": [
       "0   -1.224745\n",
       "1    0.000000\n",
       "2    1.224745\n",
       "Name: std, dtype: float64"
      ]
     },
     "execution_count": 23,
     "metadata": {},
     "output_type": "execute_result"
    }
   ],
   "source": [
    "x.data['std']"
   ]
  },
  {
   "cell_type": "code",
   "execution_count": 24,
   "id": "25caf03b",
   "metadata": {},
   "outputs": [
    {
     "name": "stderr",
     "output_type": "stream",
     "text": [
      ".."
     ]
    },
    {
     "name": "stdout",
     "output_type": "stream",
     "text": [
      "[-1.224744871391589, 0.0, 1.224744871391589]\n"
     ]
    },
    {
     "name": "stderr",
     "output_type": "stream",
     "text": [
      "\n",
      "----------------------------------------------------------------------\n",
      "Ran 2 tests in 0.004s\n",
      "\n",
      "OK\n"
     ]
    }
   ],
   "source": [
    "import unittest\n",
    "\n",
    "class TestStringMethods(unittest.TestCase):\n",
    "\n",
    "    def test_fit(self):\n",
    "        left =  Standardize(pd.DataFrame({'col 1': range(1, 7, 2)}))._fit().data['std'].to_list()\n",
    "        print(left)\n",
    "        self.assertEqual(\n",
    "            left, \n",
    "            [-1.224744871391589, 0.0, 1.224744871391589])\n",
    "    \n",
    "    def test_transform(self):\n",
    "        to_transform = 2\n",
    "        col = 'col 1'\n",
    "        right = Standardize(pd.DataFrame({col: range(1, 7, 2)})).data[col].to_list()\n",
    "        left = Standardize(pd.DataFrame({col: range(1, 7, 2)}))._transform(col, to_transform)\n",
    "        left = left._inverse_transform(col, to_transform).data[col].to_list()\n",
    "        \n",
    "        self.assertEqual(left, right)\n",
    "        \n",
    "if __name__ == '__main__':\n",
    "    unittest.main(argv=['first-arg-is-ignored'], exit=False)"
   ]
  },
  {
   "cell_type": "code",
   "execution_count": 25,
   "id": "fb3d43b2",
   "metadata": {},
   "outputs": [
    {
     "name": "stderr",
     "output_type": "stream",
     "text": [
      "[nltk_data] Downloading package punkt to\n",
      "[nltk_data]     C:\\Users\\Gabi\\AppData\\Roaming\\nltk_data...\n",
      "[nltk_data]   Package punkt is already up-to-date!\n",
      "[nltk_data] Downloading package stopwords to\n",
      "[nltk_data]     C:\\Users\\Gabi\\AppData\\Roaming\\nltk_data...\n",
      "[nltk_data]   Package stopwords is already up-to-date!\n",
      "[nltk_data] Downloading package wordnet to\n",
      "[nltk_data]     C:\\Users\\Gabi\\AppData\\Roaming\\nltk_data...\n",
      "[nltk_data]   Package wordnet is already up-to-date!\n"
     ]
    }
   ],
   "source": [
    "import nltk\n",
    "nltk.download('punkt')\n",
    "nltk.download('stopwords')\n",
    "nltk.download('wordnet')\n",
    "\n",
    "from nltk.corpus import stopwords\n",
    "from nltk.tokenize import word_tokenize\n",
    "from nltk.stem import WordNetLemmatizer\n",
    "from typing import List"
   ]
  },
  {
   "cell_type": "code",
   "execution_count": 26,
   "id": "c5f4e8f4",
   "metadata": {},
   "outputs": [],
   "source": [
    "sentence_data = \"The First sentence is about Python. The Second: about Django. You can learn Python,Django and Data Ananlysis here. \""
   ]
  },
  {
   "cell_type": "code",
   "execution_count": 27,
   "id": "4648666f",
   "metadata": {},
   "outputs": [
    {
     "name": "stdout",
     "output_type": "stream",
     "text": [
      "['The First sentence is about Python.', 'The Second: about Django.', 'You can learn Python,Django and Data Ananlysis here.']\n",
      "The First sentence is about Python The Second about Django You can learn PythonDjango and Data Ananlysis here \n",
      "['The', 'First', 'sentence', 'Python', '.', 'The', 'Second', ':', 'Django', '.', 'You', 'learn', 'Python', ',', 'Django', 'Data', 'Ananlysis', '.']\n",
      "The First sentence is about Python. The Second: about Django. You can learn Python,Django and Data Ananlysis here. \n"
     ]
    }
   ],
   "source": [
    "def tokenize_data(data):\n",
    "    return nltk.sent_tokenize(data)\n",
    "\n",
    "def rmv_punct(data):\n",
    "    punc = '''!()-[]{};:'\"\\,<>./?@#$%^&*_~'''\n",
    "    for p in punc:\n",
    "        if p in data:\n",
    "            data = data.replace(p, \"\")\n",
    "    \n",
    "    return data\n",
    "\n",
    "def rmv_stop(data):\n",
    "    stop_words = set(stopwords.words('english'))\n",
    " \n",
    "    word_tokens = word_tokenize(data)\n",
    "\n",
    "    filtered_sentence = [w for w in word_tokens if not w.lower() in stop_words]\n",
    "\n",
    "    filtered_sentence = []\n",
    "\n",
    "    for w in word_tokens:\n",
    "        if w not in stop_words:\n",
    "            filtered_sentence.append(w)\n",
    "            \n",
    "    return filtered_sentence\n",
    "\n",
    "def lemmatize(data):\n",
    "    lemmatizer = WordNetLemmatizer()\n",
    "    \n",
    "    return lemmatizer.lemmatize(data)\n",
    "\n",
    "\n",
    "print(tokenize_data(sentence_data))\n",
    "print(rmv_punct(sentence_data))\n",
    "print(rmv_stop(sentence_data))\n",
    "print(lemmatize(sentence_data))"
   ]
  },
  {
   "cell_type": "code",
   "execution_count": null,
   "id": "0ef05ec3",
   "metadata": {
    "scrolled": true
   },
   "outputs": [],
   "source": []
  },
  {
   "cell_type": "code",
   "execution_count": 28,
   "id": "65f7f72c",
   "metadata": {},
   "outputs": [],
   "source": [
    "def multiple_tokenize(data: List, func_to_apply):\n",
    "    for i, v in enumerate(data):\n",
    "        data[i] = func_to_apply(data[i])\n",
    "    \n",
    "    return data"
   ]
  },
  {
   "cell_type": "code",
   "execution_count": 29,
   "id": "eb9b085b",
   "metadata": {
    "scrolled": true
   },
   "outputs": [
    {
     "data": {
      "text/plain": [
       "[['The',\n",
       "  'First',\n",
       "  'sentence',\n",
       "  'Python',\n",
       "  '.',\n",
       "  'The',\n",
       "  'Second',\n",
       "  ':',\n",
       "  'Django',\n",
       "  '.',\n",
       "  'You',\n",
       "  'learn',\n",
       "  'Python',\n",
       "  ',',\n",
       "  'Django',\n",
       "  'Data',\n",
       "  'Ananlysis',\n",
       "  '.'],\n",
       " ['The',\n",
       "  'First',\n",
       "  'sentence',\n",
       "  'Python',\n",
       "  '.',\n",
       "  'The',\n",
       "  'Second',\n",
       "  ':',\n",
       "  'Django',\n",
       "  '.',\n",
       "  'You',\n",
       "  'learn',\n",
       "  'Python',\n",
       "  ',',\n",
       "  'Django',\n",
       "  'Data',\n",
       "  'Ananlysis',\n",
       "  '.'],\n",
       " ['The',\n",
       "  'First',\n",
       "  'sentence',\n",
       "  'Python',\n",
       "  '.',\n",
       "  'The',\n",
       "  'Second',\n",
       "  ':',\n",
       "  'Django',\n",
       "  '.',\n",
       "  'You',\n",
       "  'learn',\n",
       "  'Python',\n",
       "  ',',\n",
       "  'Django',\n",
       "  'Data',\n",
       "  'Ananlysis',\n",
       "  '.']]"
      ]
     },
     "execution_count": 29,
     "metadata": {},
     "output_type": "execute_result"
    }
   ],
   "source": [
    "list_of_data = [sentence_data for i in range(3)]\n",
    "multiple_tokenize(list_of_data, rmv_stop)"
   ]
  },
  {
   "cell_type": "code",
   "execution_count": 30,
   "id": "2d55fc91",
   "metadata": {},
   "outputs": [
    {
     "name": "stderr",
     "output_type": "stream",
     "text": [
      ".\n",
      "----------------------------------------------------------------------\n",
      "Ran 1 test in 0.003s\n",
      "\n",
      "OK\n"
     ]
    },
    {
     "ename": "SystemExit",
     "evalue": "False",
     "output_type": "error",
     "traceback": [
      "An exception has occurred, use %tb to see the full traceback.\n",
      "\u001b[1;31mSystemExit\u001b[0m\u001b[1;31m:\u001b[0m False\n"
     ]
    },
    {
     "name": "stderr",
     "output_type": "stream",
     "text": [
      "C:\\Users\\Gabi\\anaconda3\\lib\\site-packages\\IPython\\core\\interactiveshell.py:3452: UserWarning: To exit: use 'exit', 'quit', or Ctrl-D.\n",
      "  warn(\"To exit: use 'exit', 'quit', or Ctrl-D.\", stacklevel=1)\n"
     ]
    }
   ],
   "source": [
    "import unittest\n",
    "\n",
    "class TestStringMethods(unittest.TestCase):\n",
    "\n",
    "    def test_multiple_tokenize(self, func=rmv_stop):\n",
    "        right = [['The',\n",
    "  'First',\n",
    "  'sentence',\n",
    "  'Python',\n",
    "  '.',\n",
    "  'The',\n",
    "  'Second',\n",
    "  ':',\n",
    "  'Django',\n",
    "  '.',\n",
    "  'You',\n",
    "  'learn',\n",
    "  'Python',\n",
    "  ',',\n",
    "  'Django',\n",
    "  'Data',\n",
    "  'Ananlysis',\n",
    "  '.'],\n",
    " ['The',\n",
    "  'First',\n",
    "  'sentence',\n",
    "  'Python',\n",
    "  '.',\n",
    "  'The',\n",
    "  'Second',\n",
    "  ':',\n",
    "  'Django',\n",
    "  '.',\n",
    "  'You',\n",
    "  'learn',\n",
    "  'Python',\n",
    "  ',',\n",
    "  'Django',\n",
    "  'Data',\n",
    "  'Ananlysis',\n",
    "  '.'],\n",
    " ['The',\n",
    "  'First',\n",
    "  'sentence',\n",
    "  'Python',\n",
    "  '.',\n",
    "  'The',\n",
    "  'Second',\n",
    "  ':',\n",
    "  'Django',\n",
    "  '.',\n",
    "  'You',\n",
    "  'learn',\n",
    "  'Python',\n",
    "  ',',\n",
    "  'Django',\n",
    "  'Data',\n",
    "  'Ananlysis',\n",
    "  '.']]\n",
    "        left = ['The First sentence is about Python. The Second: about Django. You can learn Python,Django and Data Ananlysis here. ',\n",
    " 'The First sentence is about Python. The Second: about Django. You can learn Python,Django and Data Ananlysis here. ',\n",
    " 'The First sentence is about Python. The Second: about Django. You can learn Python,Django and Data Ananlysis here. ']\n",
    "        \n",
    "        self.assertEqual(multiple_tokenize(left, func), right)\n",
    "        \n",
    "        \n",
    "if __name__ == '__main__':\n",
    "    unittest.main(argv=['first-arg-is-ignored'])"
   ]
  },
  {
   "cell_type": "code",
   "execution_count": null,
   "id": "7ae03ae2",
   "metadata": {},
   "outputs": [],
   "source": []
  },
  {
   "cell_type": "code",
   "execution_count": null,
   "id": "78c8e3be",
   "metadata": {},
   "outputs": [],
   "source": []
  }
 ],
 "metadata": {
  "kernelspec": {
   "display_name": "Python 3 (ipykernel)",
   "language": "python",
   "name": "python3"
  },
  "language_info": {
   "codemirror_mode": {
    "name": "ipython",
    "version": 3
   },
   "file_extension": ".py",
   "mimetype": "text/x-python",
   "name": "python",
   "nbconvert_exporter": "python",
   "pygments_lexer": "ipython3",
   "version": "3.9.7"
  }
 },
 "nbformat": 4,
 "nbformat_minor": 5
}
